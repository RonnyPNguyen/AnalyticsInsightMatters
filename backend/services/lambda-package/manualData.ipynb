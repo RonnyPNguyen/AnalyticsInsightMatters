{
 "cells": [
  {
   "cell_type": "code",
   "execution_count": 1,
   "id": "905667a4",
   "metadata": {},
   "outputs": [],
   "source": [
    "import json\n",
    "import boto3\n",
    "import requests\n",
    "import os\n",
    "\n",
    "script_dir = os.getcwd()\n",
    "file_path = os.path.join(script_dir, '../../data/listingsData.json')\n",
    "s3 = boto3.client('s3')"
   ]
  },
  {
   "cell_type": "code",
   "execution_count": 21,
   "id": "fa38be36",
   "metadata": {},
   "outputs": [
    {
     "name": "stdout",
     "output_type": "stream",
     "text": [
      "✅ Uploaded successfully to S3.\n"
     ]
    }
   ],
   "source": [
    "def upload_data():\n",
    "    try:\n",
    "        with open(file_path, \"r\") as f:\n",
    "            data = json.load(f)\n",
    "\n",
    "        s3.put_object(\n",
    "            Bucket='busy-analytics-server',\n",
    "            Key='data/listingsData.json',\n",
    "            Body=json.dumps(data, indent=2),\n",
    "            ContentType='application/json'\n",
    "        )\n",
    "\n",
    "        print(\"✅ Uploaded successfully to S3.\")\n",
    "    except Exception as e:\n",
    "        print(f\"❌ Error uploading: {e}\")\n",
    "\n",
    "if __name__ == \"__main__\":\n",
    "    upload_data()"
   ]
  },
  {
   "cell_type": "code",
   "execution_count": 12,
   "id": "f0349090",
   "metadata": {},
   "outputs": [
    {
     "name": "stdout",
     "output_type": "stream",
     "text": [
      "✅ Data fetched from URL and saved to /Users/ronnynguyen/Documents/Project/FinAlytic/backend/services/lambda-package/../../data/listingsData.json\n"
     ]
    }
   ],
   "source": [
    "url = \"https://busy-analytics-server.s3.us-east-1.amazonaws.com/data/listingsData.json\"\n",
    "response = requests.get(url)\n",
    "response.raise_for_status()\n",
    "with open(file_path, \"wb\") as f:\n",
    "    f.write(response.content)\n",
    "print(f\"✅ Data fetched from URL and saved to {file_path}\")"
   ]
  },
  {
   "cell_type": "code",
   "execution_count": null,
   "id": "c9f7227d",
   "metadata": {},
   "outputs": [],
   "source": []
  }
 ],
 "metadata": {
  "kernelspec": {
   "display_name": "venv",
   "language": "python",
   "name": "python3"
  },
  "language_info": {
   "codemirror_mode": {
    "name": "ipython",
    "version": 3
   },
   "file_extension": ".py",
   "mimetype": "text/x-python",
   "name": "python",
   "nbconvert_exporter": "python",
   "pygments_lexer": "ipython3",
   "version": "3.13.3"
  }
 },
 "nbformat": 4,
 "nbformat_minor": 5
}
