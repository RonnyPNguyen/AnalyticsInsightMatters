{
 "cells": [
  {
   "cell_type": "code",
   "execution_count": 1,
   "id": "905667a4",
   "metadata": {},
   "outputs": [],
   "source": [
    "import json\n",
    "import boto3\n",
    "import requests\n",
    "import os\n",
    "\n",
    "cwd = os.getcwd()\n",
    "s3 = boto3.client('s3')"
   ]
  },
  {
   "cell_type": "code",
   "execution_count": 2,
   "id": "fa38be36",
   "metadata": {},
   "outputs": [
    {
     "name": "stdout",
     "output_type": "stream",
     "text": [
      "✅ Uploaded successfully to S3.\n"
     ]
    }
   ],
   "source": [
    "# POST Listings Data to S3\n",
    "def upload_data():\n",
    "    try:\n",
    "        with open(cwd+'/listingsData.json', \"r\") as f:\n",
    "            data = json.load(f)\n",
    "\n",
    "        s3.put_object(\n",
    "            Bucket='busy-analytics-server',\n",
    "            Key='data/listingsData.json',\n",
    "            Body=json.dumps(data, indent=2),\n",
    "            ContentType='application/json'\n",
    "        )\n",
    "\n",
    "        print(\"✅ Uploaded successfully to S3.\")\n",
    "    except Exception as e:\n",
    "        print(f\"❌ Error uploading: {e}\")\n",
    "\n",
    "if __name__ == \"__main__\":\n",
    "    upload_data()"
   ]
  },
  {
   "cell_type": "code",
   "execution_count": 3,
   "id": "f0349090",
   "metadata": {},
   "outputs": [
    {
     "name": "stdout",
     "output_type": "stream",
     "text": [
      "✅ Data fetched from URL and saved to /Users/ronnynguyen/Documents/Project/FinAlytic/backend/scripts/manualDataHandling/lambda-package/listingsData.json\n"
     ]
    }
   ],
   "source": [
    "# GET Listings Data from S3\n",
    "url = \"https://busy-analytics-server.s3.us-east-1.amazonaws.com/data/listingsData.json\"\n",
    "response = requests.get(url)\n",
    "response.raise_for_status()\n",
    "with open(cwd +'/listingsData.json', \"wb\") as f:\n",
    "    f.write(response.content)\n",
    "print(f\"✅ Data fetched from URL and saved to {cwd +'/lambda-package/listingsData.json'}\")"
   ]
  },
  {
   "cell_type": "code",
   "execution_count": 4,
   "id": "c3f1c666",
   "metadata": {},
   "outputs": [
    {
     "name": "stdout",
     "output_type": "stream",
     "text": [
      "✅ Uploaded successfully to S3.\n"
     ]
    }
   ],
   "source": [
    "# POST Market Data to S3\n",
    "def upload_data():\n",
    "    try:\n",
    "        with open(cwd+'/marketData.json', \"r\") as f:\n",
    "            data = json.load(f)\n",
    "\n",
    "        s3.put_object(\n",
    "            Bucket='busy-analytics-server',\n",
    "            Key='data/marketData.json',\n",
    "            Body=json.dumps(data, indent=2),\n",
    "            ContentType='application/json'\n",
    "        )\n",
    "\n",
    "        print(\"✅ Uploaded successfully to S3.\")\n",
    "    except Exception as e:\n",
    "        print(f\"❌ Error uploading: {e}\")\n",
    "\n",
    "if __name__ == \"__main__\":\n",
    "    upload_data()"
   ]
  },
  {
   "cell_type": "code",
   "execution_count": 6,
   "id": "c9f7227d",
   "metadata": {},
   "outputs": [
    {
     "name": "stdout",
     "output_type": "stream",
     "text": [
      "✅ Data fetched from URL and saved to /Users/ronnynguyen/Documents/Project/FinAlytic/backend/scripts/manualDataHandling/lambda-package/marketingData.json\n"
     ]
    }
   ],
   "source": [
    "# GET Market Data to S3\n",
    "url = \"https://busy-analytics-server.s3.us-east-1.amazonaws.com/data/marketData.json\"\n",
    "response = requests.get(url)\n",
    "response.raise_for_status()\n",
    "with open(cwd +'/marketData.json', \"wb\") as f:\n",
    "    f.write(response.content)\n",
    "print(f\"✅ Data fetched from URL and saved to {cwd +'/lambda-package/marketingData.json'}\")"
   ]
  },
  {
   "cell_type": "code",
   "execution_count": 7,
   "id": "242600d4",
   "metadata": {},
   "outputs": [
    {
     "name": "stdout",
     "output_type": "stream",
     "text": [
      "✅ Data fetched from URL and saved to /Users/ronnynguyen/Documents/Project/FinAlytic/backend/scripts/manualDataHandling/lambda-package/pendingListing.json\n"
     ]
    }
   ],
   "source": [
    "# GET Pending Data to S3\n",
    "url = \"https://busy-analytics-server.s3.us-east-1.amazonaws.com/data/pendingListing.json\"\n",
    "response = requests.get(url)\n",
    "response.raise_for_status()\n",
    "with open(cwd +'/pendingListing.json', \"wb\") as f:\n",
    "    f.write(response.content)\n",
    "print(f\"✅ Data fetched from URL and saved to {cwd +'/lambda-package/pendingListing.json'}\")"
   ]
  },
  {
   "cell_type": "code",
   "execution_count": 8,
   "id": "171d9a16",
   "metadata": {},
   "outputs": [
    {
     "name": "stdout",
     "output_type": "stream",
     "text": [
      "✅ Uploaded successfully to S3.\n"
     ]
    }
   ],
   "source": [
    "# POST Pending Data to S3\n",
    "def upload_data():\n",
    "    try:\n",
    "        with open(cwd+'/pendingListing.json', \"r\") as f:\n",
    "            data = json.load(f)\n",
    "\n",
    "        s3.put_object(\n",
    "            Bucket='busy-analytics-server',\n",
    "            Key='data/pendingListing.json',\n",
    "            Body=json.dumps(data, indent=2),\n",
    "            ContentType='application/json'\n",
    "        )\n",
    "\n",
    "        print(\"✅ Uploaded successfully to S3.\")\n",
    "    except Exception as e:\n",
    "        print(f\"❌ Error uploading: {e}\")\n",
    "\n",
    "if __name__ == \"__main__\":\n",
    "    upload_data()"
   ]
  }
 ],
 "metadata": {
  "kernelspec": {
   "display_name": "venv",
   "language": "python",
   "name": "python3"
  },
  "language_info": {
   "codemirror_mode": {
    "name": "ipython",
    "version": 3
   },
   "file_extension": ".py",
   "mimetype": "text/x-python",
   "name": "python",
   "nbconvert_exporter": "python",
   "pygments_lexer": "ipython3",
   "version": "3.13.3"
  }
 },
 "nbformat": 4,
 "nbformat_minor": 5
}
