{
 "cells": [
  {
   "cell_type": "code",
   "execution_count": 30,
   "metadata": {},
   "outputs": [],
   "source": [
    "import pandas as pd\n",
    "import os\n",
    "cwd = os.getcwd()\n",
    "year = 5\n",
    "df1 = pd.read_excel(cwd + '/Retail Turnover State by Industry Subgroup Original.xlsx', sheet_name='Data1')\n",
    "df2 = pd.read_excel(cwd + '/Formula Sheet.xlsx', sheet_name='Industry Manager Title')\n",
    "df3 = pd.read_excel(cwd + '/Formula Sheet.xlsx', sheet_name='Manager Annual Wage')\n",
    "\n",
    "df1.drop(columns=['Unnamed: 0'], inplace=True)\n",
    "df1 = (\n",
    "    df1.tail(year * 12 + 1)\n",
    "        .pct_change(fill_method=None)\n",
    "        .dropna(how='all')\n",
    "        .mean()\n",
    "        .to_frame(name='Turnover Rate')  # Name the value column\n",
    "        .reset_index()     # Name the former index as a column\n",
    ")\n",
    "\n",
    "# Now split the 'index' column into parts\n",
    "df1[['Part1', 'State', 'Industry','Part2']] = df1['index'].str.split(';', expand=True)\n",
    "\n",
    "# Clean spaces\n",
    "df1['State'] = df1['State'].str.strip()\n",
    "df1['Industry'] = df1['Industry'].str.strip()\n",
    "\n",
    "# Drop the useless columns\n",
    "df1 = df1[['State', 'Industry', 'Turnover Rate']]\n",
    "df1 = df1.merge(df2, how='left', left_on='Industry', right_on='Retail Trade')\n",
    "df3 = df3.rename(columns={'State/Territory': 'State'}).melt(id_vars='State', var_name='Title', value_name='Salary')\n",
    "df1 = df1.merge(df3_long, how='left', on=['State', 'Title'])"
   ]
  },
  {
   "cell_type": "code",
   "execution_count": 31,
   "metadata": {},
   "outputs": [],
   "source": [
    "\n",
    "with pd.ExcelWriter(cwd + '/Formula Sheet.xlsx', mode='a', engine='openpyxl') as writer:\n",
    "    if 'Industry' in writer.book.sheetnames:\n",
    "        del writer.book['Industry']\n",
    "    df1.to_excel(writer, sheet_name='Industry Metrics', index=False)"
   ]
  }
 ],
 "metadata": {
  "kernelspec": {
   "display_name": "venv",
   "language": "python",
   "name": "python3"
  },
  "language_info": {
   "codemirror_mode": {
    "name": "ipython",
    "version": 3
   },
   "file_extension": ".py",
   "mimetype": "text/x-python",
   "name": "python",
   "nbconvert_exporter": "python",
   "pygments_lexer": "ipython3",
   "version": "3.13.3"
  }
 },
 "nbformat": 4,
 "nbformat_minor": 2
}
